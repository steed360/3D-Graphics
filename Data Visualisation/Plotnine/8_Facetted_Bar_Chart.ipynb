{
  "cells": [
    {
      "cell_type": "markdown",
      "metadata": {
        "id": "view-in-github",
        "colab_type": "text"
      },
      "source": [
        "<a href=\"https://colab.research.google.com/github/steed360/3D-Graphics/blob/master/Data%20Visualisation/Plotnine/8_Facetted_Bar_Chart.ipynb\" target=\"_parent\"><img src=\"https://colab.research.google.com/assets/colab-badge.svg\" alt=\"Open In Colab\"/></a>"
      ]
    },
    {
      "cell_type": "code",
      "execution_count": null,
      "metadata": {
        "id": "DrFcdjYizmu-"
      },
      "outputs": [],
      "source": [
        "# Useful for multiple chartS: patchworklib\n",
        "\n",
        "# https://github.com/has2k1/plotnine/issues/46"
      ]
    },
    {
      "cell_type": "markdown",
      "source": [
        "Recreate this chart in Plotnine\n",
        "\n",
        "https://github.com/adamribaudo/storytelling-with-data-ggplot/blob/master/FIG0902.R"
      ],
      "metadata": {
        "id": "Av-9Jref0R3-"
      }
    },
    {
      "cell_type": "code",
      "execution_count": 7,
      "metadata": {
        "id": "UpZCsa5-zmvH"
      },
      "outputs": [],
      "source": [
        "#pip install plotnine\n",
        "\n",
        "## Import libraries\n",
        "import numpy as np\n",
        "import matplotlib.pyplot as plt \n",
        "from matplotlib import transforms\n",
        "import pandas as pd\n",
        "from pandas import CategoricalDtype\n",
        "\n",
        "\n",
        "#import seaborn as sns\n",
        "#from matplotlib.ticker import FixedLocator, FixedFormatter\n",
        "import matplotlib\n",
        "\n",
        "from plotnine import ggplot, geom_point, aes, stat_smooth, facet_wrap\n",
        "from plotnine import *\n",
        "from plotnine import ggplot, geom_point, aes, stat_smooth, facet_wrap, geom_line\n",
        "from plotnine import ggplot  # https://plotnine.readthedocs.io/en/stable/\n",
        "import pandas as pd\n",
        "import plotnine\n",
        "%matplotlib inline\n",
        "\n",
        "from  mizani import formatters # for better axis labelling\n",
        "from matplotlib.patches import Rectangle\n"
      ]
    },
    {
      "cell_type": "code",
      "execution_count": 2,
      "metadata": {
        "id": "8x4_lG4GzmvI"
      },
      "outputs": [],
      "source": [
        "# define colors\n",
        "GRAY1, GRAY2, GRAY3 = '#231F20', '#414040', '#555655'\n",
        "GRAY4, GRAY5, GRAY6 = '#646369', '#76787B', '#828282'\n",
        "GRAY7, GRAY8, GRAY9 = '#929497', '#A6A6A5', '#BFBEBE'\n",
        "BLUE1, BLUE2, BLUE3, BLUE4 = '#174A7E', '#4A81BF', '#94B2D7', '#94AFC5'\n",
        "BLUE5, BLUE6 = '#92CDDD', '#2E869D'\n",
        "RED1, RED2 = '#C3514E', '#E6BAB7'\n",
        "GREEN1, GREEN2 = '#0C8040', '#9ABB59'\n",
        "ORANGE1, ORANGE2, ORANGE3 = '#F79747', '#FAC090', '#F36721'"
      ]
    },
    {
      "cell_type": "code",
      "source": [
        "def color_title(labels, colors, textprops = {'size':'large'}, ax = None, y = 1,\n",
        "               precision = 10**-2):\n",
        "     \n",
        "    \"Creates a centered title with multiple colors. Don't change axes limits afterwards.\"\n",
        "        \n",
        "    if ax == None:\n",
        "        ax = plt.gca()\n",
        "        \n",
        "    plt.gcf().canvas.draw()\n",
        "    transform = ax.transAxes # use axes coords\n",
        "    \n",
        "    # initial params\n",
        "    xT = 0 # where the text ends in x-axis coords\n",
        "    shift = 0 # where the text starts\n",
        "    \n",
        "    # for text objects\n",
        "    text = dict()\n",
        "\n",
        "    while (np.abs(shift - (1-xT)) > precision) and (shift <= xT) :         \n",
        "        x_pos = shift \n",
        "        \n",
        "        for label, col in zip(labels, colors):\n",
        "            try:\n",
        "                text[label].remove()\n",
        "            except KeyError:\n",
        "                pass\n",
        "            \n",
        "            text[label] = ax.text(x_pos, y, label, \n",
        "                        transform = transform, \n",
        "                        ha = 'left',\n",
        "                        color = col,\n",
        "                        **textprops)\n",
        "            \n",
        "            x_pos = text[label].get_window_extent()\\\n",
        "                   .transformed(transform.inverted()).x1\n",
        "            \n",
        "        xT = x_pos # where all text ends\n",
        "        \n",
        "        shift += precision/2 # increase for next iteration\n",
        "      \n",
        "        if x_pos > 1: # guardrail \n",
        "            break"
      ],
      "metadata": {
        "id": "87_D1cneawHU"
      },
      "execution_count": 3,
      "outputs": []
    },
    {
      "cell_type": "code",
      "execution_count": 4,
      "metadata": {
        "id": "E5W63smyzmvJ"
      },
      "outputs": [],
      "source": [
        "# empathy87 on github\n",
        "\n",
        "def rainbow_text(x, y, text, colors, spacing=20, ax=None, **kw):\n",
        "    colors = list(reversed(colors))\n",
        "    t = ax.transData\n",
        "    canvas = ax.figure.canvas\n",
        "\n",
        "    for i, line in enumerate(reversed(text.split('\\n'))):\n",
        "        strings = line.split('||')\n",
        "        for s, c in zip(strings, colors[i]):\n",
        "            text = ax.text(x, y, s, color=c, transform=t, **kw)\n",
        "            text.draw(canvas.get_renderer())\n",
        "            ex = text.get_window_extent()\n",
        "            t = transforms.offset_copy(text._transform, x=ex.width, \n",
        "                                       units='dots')\n",
        "\n",
        "        t = transforms.offset_copy(ax.transData, x=0, y=(i + 1) * spacing, \n",
        "                                   units='dots')\n",
        "        "
      ]
    },
    {
      "cell_type": "code",
      "execution_count": 8,
      "metadata": {
        "id": "f-od83_7zmvK"
      },
      "outputs": [],
      "source": [
        "# configure plot font family to Arial\n",
        "plt.rcParams['font.family'] = 'Arial'\n",
        "matplotlib.rcParams['mathtext.fontset'] = 'custom'\n",
        "matplotlib.rcParams['mathtext.bf'] = 'Arial:bold'\n",
        "matplotlib.rcParams['mathtext.it'] = 'Arial:italic'"
      ]
    },
    {
      "cell_type": "markdown",
      "metadata": {
        "id": "aNNM2Q2szmvK"
      },
      "source": [
        "#### Read in and process the data"
      ]
    },
    {
      "cell_type": "code",
      "execution_count": 56,
      "metadata": {
        "colab": {
          "base_uri": "https://localhost:8080/",
          "height": 206
        },
        "id": "IZfswX9XzmvO",
        "outputId": "2104b7e7-4fd9-440d-e225-11666a13734c"
      },
      "outputs": [
        {
          "output_type": "execute_result",
          "data": {
            "text/plain": [
              "       Category  Our business  Competitor A  Competitor B  Competitor C  \\\n",
              "0         Price          1.81          1.59          0.26          1.02   \n",
              "1   Convenience          1.70          2.18          0.72          0.82   \n",
              "2  Relationship          0.70          1.98          0.62          0.67   \n",
              "3       Service          0.31          0.50          1.23          0.69   \n",
              "4     Selection          0.26          0.27          0.87          0.43   \n",
              "\n",
              "   Competitor D  Competitor E    Rank  \n",
              "0          1.60          0.76  1 of 6  \n",
              "1          1.64          0.05  2 of 6  \n",
              "2          1.10          1.20  4 of 6  \n",
              "3          1.11          2.06  6 of 6  \n",
              "4          1.60          2.40  6 of 6  "
            ],
            "text/html": [
              "\n",
              "  <div id=\"df-f813feab-0642-46e2-9159-f38d3126a67d\">\n",
              "    <div class=\"colab-df-container\">\n",
              "      <div>\n",
              "<style scoped>\n",
              "    .dataframe tbody tr th:only-of-type {\n",
              "        vertical-align: middle;\n",
              "    }\n",
              "\n",
              "    .dataframe tbody tr th {\n",
              "        vertical-align: top;\n",
              "    }\n",
              "\n",
              "    .dataframe thead th {\n",
              "        text-align: right;\n",
              "    }\n",
              "</style>\n",
              "<table border=\"1\" class=\"dataframe\">\n",
              "  <thead>\n",
              "    <tr style=\"text-align: right;\">\n",
              "      <th></th>\n",
              "      <th>Category</th>\n",
              "      <th>Our business</th>\n",
              "      <th>Competitor A</th>\n",
              "      <th>Competitor B</th>\n",
              "      <th>Competitor C</th>\n",
              "      <th>Competitor D</th>\n",
              "      <th>Competitor E</th>\n",
              "      <th>Rank</th>\n",
              "    </tr>\n",
              "  </thead>\n",
              "  <tbody>\n",
              "    <tr>\n",
              "      <th>0</th>\n",
              "      <td>Price</td>\n",
              "      <td>1.81</td>\n",
              "      <td>1.59</td>\n",
              "      <td>0.26</td>\n",
              "      <td>1.02</td>\n",
              "      <td>1.60</td>\n",
              "      <td>0.76</td>\n",
              "      <td>1 of 6</td>\n",
              "    </tr>\n",
              "    <tr>\n",
              "      <th>1</th>\n",
              "      <td>Convenience</td>\n",
              "      <td>1.70</td>\n",
              "      <td>2.18</td>\n",
              "      <td>0.72</td>\n",
              "      <td>0.82</td>\n",
              "      <td>1.64</td>\n",
              "      <td>0.05</td>\n",
              "      <td>2 of 6</td>\n",
              "    </tr>\n",
              "    <tr>\n",
              "      <th>2</th>\n",
              "      <td>Relationship</td>\n",
              "      <td>0.70</td>\n",
              "      <td>1.98</td>\n",
              "      <td>0.62</td>\n",
              "      <td>0.67</td>\n",
              "      <td>1.10</td>\n",
              "      <td>1.20</td>\n",
              "      <td>4 of 6</td>\n",
              "    </tr>\n",
              "    <tr>\n",
              "      <th>3</th>\n",
              "      <td>Service</td>\n",
              "      <td>0.31</td>\n",
              "      <td>0.50</td>\n",
              "      <td>1.23</td>\n",
              "      <td>0.69</td>\n",
              "      <td>1.11</td>\n",
              "      <td>2.06</td>\n",
              "      <td>6 of 6</td>\n",
              "    </tr>\n",
              "    <tr>\n",
              "      <th>4</th>\n",
              "      <td>Selection</td>\n",
              "      <td>0.26</td>\n",
              "      <td>0.27</td>\n",
              "      <td>0.87</td>\n",
              "      <td>0.43</td>\n",
              "      <td>1.60</td>\n",
              "      <td>2.40</td>\n",
              "      <td>6 of 6</td>\n",
              "    </tr>\n",
              "  </tbody>\n",
              "</table>\n",
              "</div>\n",
              "      <button class=\"colab-df-convert\" onclick=\"convertToInteractive('df-f813feab-0642-46e2-9159-f38d3126a67d')\"\n",
              "              title=\"Convert this dataframe to an interactive table.\"\n",
              "              style=\"display:none;\">\n",
              "        \n",
              "  <svg xmlns=\"http://www.w3.org/2000/svg\" height=\"24px\"viewBox=\"0 0 24 24\"\n",
              "       width=\"24px\">\n",
              "    <path d=\"M0 0h24v24H0V0z\" fill=\"none\"/>\n",
              "    <path d=\"M18.56 5.44l.94 2.06.94-2.06 2.06-.94-2.06-.94-.94-2.06-.94 2.06-2.06.94zm-11 1L8.5 8.5l.94-2.06 2.06-.94-2.06-.94L8.5 2.5l-.94 2.06-2.06.94zm10 10l.94 2.06.94-2.06 2.06-.94-2.06-.94-.94-2.06-.94 2.06-2.06.94z\"/><path d=\"M17.41 7.96l-1.37-1.37c-.4-.4-.92-.59-1.43-.59-.52 0-1.04.2-1.43.59L10.3 9.45l-7.72 7.72c-.78.78-.78 2.05 0 2.83L4 21.41c.39.39.9.59 1.41.59.51 0 1.02-.2 1.41-.59l7.78-7.78 2.81-2.81c.8-.78.8-2.07 0-2.86zM5.41 20L4 18.59l7.72-7.72 1.47 1.35L5.41 20z\"/>\n",
              "  </svg>\n",
              "      </button>\n",
              "      \n",
              "  <style>\n",
              "    .colab-df-container {\n",
              "      display:flex;\n",
              "      flex-wrap:wrap;\n",
              "      gap: 12px;\n",
              "    }\n",
              "\n",
              "    .colab-df-convert {\n",
              "      background-color: #E8F0FE;\n",
              "      border: none;\n",
              "      border-radius: 50%;\n",
              "      cursor: pointer;\n",
              "      display: none;\n",
              "      fill: #1967D2;\n",
              "      height: 32px;\n",
              "      padding: 0 0 0 0;\n",
              "      width: 32px;\n",
              "    }\n",
              "\n",
              "    .colab-df-convert:hover {\n",
              "      background-color: #E2EBFA;\n",
              "      box-shadow: 0px 1px 2px rgba(60, 64, 67, 0.3), 0px 1px 3px 1px rgba(60, 64, 67, 0.15);\n",
              "      fill: #174EA6;\n",
              "    }\n",
              "\n",
              "    [theme=dark] .colab-df-convert {\n",
              "      background-color: #3B4455;\n",
              "      fill: #D2E3FC;\n",
              "    }\n",
              "\n",
              "    [theme=dark] .colab-df-convert:hover {\n",
              "      background-color: #434B5C;\n",
              "      box-shadow: 0px 1px 3px 1px rgba(0, 0, 0, 0.15);\n",
              "      filter: drop-shadow(0px 1px 2px rgba(0, 0, 0, 0.3));\n",
              "      fill: #FFFFFF;\n",
              "    }\n",
              "  </style>\n",
              "\n",
              "      <script>\n",
              "        const buttonEl =\n",
              "          document.querySelector('#df-f813feab-0642-46e2-9159-f38d3126a67d button.colab-df-convert');\n",
              "        buttonEl.style.display =\n",
              "          google.colab.kernel.accessAllowed ? 'block' : 'none';\n",
              "\n",
              "        async function convertToInteractive(key) {\n",
              "          const element = document.querySelector('#df-f813feab-0642-46e2-9159-f38d3126a67d');\n",
              "          const dataTable =\n",
              "            await google.colab.kernel.invokeFunction('convertToInteractive',\n",
              "                                                     [key], {});\n",
              "          if (!dataTable) return;\n",
              "\n",
              "          const docLinkHtml = 'Like what you see? Visit the ' +\n",
              "            '<a target=\"_blank\" href=https://colab.research.google.com/notebooks/data_table.ipynb>data table notebook</a>'\n",
              "            + ' to learn more about interactive tables.';\n",
              "          element.innerHTML = '';\n",
              "          dataTable['output_type'] = 'display_data';\n",
              "          await google.colab.output.renderOutput(dataTable, element);\n",
              "          const docLink = document.createElement('div');\n",
              "          docLink.innerHTML = docLinkHtml;\n",
              "          element.appendChild(docLink);\n",
              "        }\n",
              "      </script>\n",
              "    </div>\n",
              "  </div>\n",
              "  "
            ]
          },
          "metadata": {},
          "execution_count": 56
        }
      ],
      "source": [
        "\n",
        "#df = pd.read_csv ( 'Data\\FIG0902.csv')\n",
        "\n",
        "fileURL = 'https://raw.githubusercontent.com/steed360/Data-Wrangling-And-Visualisation-Toolkits/main/Data%20Visualisation/Plotnine/Data/data/FIG0315-16.csv' \n",
        "\n",
        "df = pd.read_csv ( fileURL)\n",
        "df.head()\n",
        "\n"
      ]
    },
    {
      "cell_type": "code",
      "source": [
        "# Unpivot the table \n",
        "df_long = pd.melt (df.reset_index(), \n",
        "    id_vars = 'Category', \n",
        "    value_vars = ['Our business', 'Competitor A', 'Competitor B', 'Competitor B','Competitor C', 'Competitor D',\t'Competitor E'  ] ,\n",
        "    value_name='Result', var_name='Business' )\n",
        "\n",
        "\n",
        "df_long['ranking_desc'] = df_long.groupby ( 'Category')['Result']  .rank(method='dense', ascending=False).astype(int).astype(str) + ' of 6'\n",
        "\n",
        "df_long.loc [~ (df_long['Business'] =='Our business') ,'ranking_desc'  ] = ''\n",
        "\n",
        "\n",
        "df_long.head(7)"
      ],
      "metadata": {
        "colab": {
          "base_uri": "https://localhost:8080/",
          "height": 269
        },
        "id": "QUFufKmX3QNA",
        "outputId": "b1ee64a5-7c31-4407-959e-ff700bd82e56"
      },
      "execution_count": 140,
      "outputs": [
        {
          "output_type": "execute_result",
          "data": {
            "text/plain": [
              "       Category      Business  Result ranking_desc\n",
              "0         Price  Our business    1.81       1 of 6\n",
              "1   Convenience  Our business    1.70       2 of 6\n",
              "2  Relationship  Our business    0.70       4 of 6\n",
              "3       Service  Our business    0.31       6 of 6\n",
              "4     Selection  Our business    0.26       6 of 6\n",
              "5         Price  Competitor A    1.59             \n",
              "6   Convenience  Competitor A    2.18             "
            ],
            "text/html": [
              "\n",
              "  <div id=\"df-cb4e194c-8b19-4f7e-9a42-4a9136a0cf27\">\n",
              "    <div class=\"colab-df-container\">\n",
              "      <div>\n",
              "<style scoped>\n",
              "    .dataframe tbody tr th:only-of-type {\n",
              "        vertical-align: middle;\n",
              "    }\n",
              "\n",
              "    .dataframe tbody tr th {\n",
              "        vertical-align: top;\n",
              "    }\n",
              "\n",
              "    .dataframe thead th {\n",
              "        text-align: right;\n",
              "    }\n",
              "</style>\n",
              "<table border=\"1\" class=\"dataframe\">\n",
              "  <thead>\n",
              "    <tr style=\"text-align: right;\">\n",
              "      <th></th>\n",
              "      <th>Category</th>\n",
              "      <th>Business</th>\n",
              "      <th>Result</th>\n",
              "      <th>ranking_desc</th>\n",
              "    </tr>\n",
              "  </thead>\n",
              "  <tbody>\n",
              "    <tr>\n",
              "      <th>0</th>\n",
              "      <td>Price</td>\n",
              "      <td>Our business</td>\n",
              "      <td>1.81</td>\n",
              "      <td>1 of 6</td>\n",
              "    </tr>\n",
              "    <tr>\n",
              "      <th>1</th>\n",
              "      <td>Convenience</td>\n",
              "      <td>Our business</td>\n",
              "      <td>1.70</td>\n",
              "      <td>2 of 6</td>\n",
              "    </tr>\n",
              "    <tr>\n",
              "      <th>2</th>\n",
              "      <td>Relationship</td>\n",
              "      <td>Our business</td>\n",
              "      <td>0.70</td>\n",
              "      <td>4 of 6</td>\n",
              "    </tr>\n",
              "    <tr>\n",
              "      <th>3</th>\n",
              "      <td>Service</td>\n",
              "      <td>Our business</td>\n",
              "      <td>0.31</td>\n",
              "      <td>6 of 6</td>\n",
              "    </tr>\n",
              "    <tr>\n",
              "      <th>4</th>\n",
              "      <td>Selection</td>\n",
              "      <td>Our business</td>\n",
              "      <td>0.26</td>\n",
              "      <td>6 of 6</td>\n",
              "    </tr>\n",
              "    <tr>\n",
              "      <th>5</th>\n",
              "      <td>Price</td>\n",
              "      <td>Competitor A</td>\n",
              "      <td>1.59</td>\n",
              "      <td></td>\n",
              "    </tr>\n",
              "    <tr>\n",
              "      <th>6</th>\n",
              "      <td>Convenience</td>\n",
              "      <td>Competitor A</td>\n",
              "      <td>2.18</td>\n",
              "      <td></td>\n",
              "    </tr>\n",
              "  </tbody>\n",
              "</table>\n",
              "</div>\n",
              "      <button class=\"colab-df-convert\" onclick=\"convertToInteractive('df-cb4e194c-8b19-4f7e-9a42-4a9136a0cf27')\"\n",
              "              title=\"Convert this dataframe to an interactive table.\"\n",
              "              style=\"display:none;\">\n",
              "        \n",
              "  <svg xmlns=\"http://www.w3.org/2000/svg\" height=\"24px\"viewBox=\"0 0 24 24\"\n",
              "       width=\"24px\">\n",
              "    <path d=\"M0 0h24v24H0V0z\" fill=\"none\"/>\n",
              "    <path d=\"M18.56 5.44l.94 2.06.94-2.06 2.06-.94-2.06-.94-.94-2.06-.94 2.06-2.06.94zm-11 1L8.5 8.5l.94-2.06 2.06-.94-2.06-.94L8.5 2.5l-.94 2.06-2.06.94zm10 10l.94 2.06.94-2.06 2.06-.94-2.06-.94-.94-2.06-.94 2.06-2.06.94z\"/><path d=\"M17.41 7.96l-1.37-1.37c-.4-.4-.92-.59-1.43-.59-.52 0-1.04.2-1.43.59L10.3 9.45l-7.72 7.72c-.78.78-.78 2.05 0 2.83L4 21.41c.39.39.9.59 1.41.59.51 0 1.02-.2 1.41-.59l7.78-7.78 2.81-2.81c.8-.78.8-2.07 0-2.86zM5.41 20L4 18.59l7.72-7.72 1.47 1.35L5.41 20z\"/>\n",
              "  </svg>\n",
              "      </button>\n",
              "      \n",
              "  <style>\n",
              "    .colab-df-container {\n",
              "      display:flex;\n",
              "      flex-wrap:wrap;\n",
              "      gap: 12px;\n",
              "    }\n",
              "\n",
              "    .colab-df-convert {\n",
              "      background-color: #E8F0FE;\n",
              "      border: none;\n",
              "      border-radius: 50%;\n",
              "      cursor: pointer;\n",
              "      display: none;\n",
              "      fill: #1967D2;\n",
              "      height: 32px;\n",
              "      padding: 0 0 0 0;\n",
              "      width: 32px;\n",
              "    }\n",
              "\n",
              "    .colab-df-convert:hover {\n",
              "      background-color: #E2EBFA;\n",
              "      box-shadow: 0px 1px 2px rgba(60, 64, 67, 0.3), 0px 1px 3px 1px rgba(60, 64, 67, 0.15);\n",
              "      fill: #174EA6;\n",
              "    }\n",
              "\n",
              "    [theme=dark] .colab-df-convert {\n",
              "      background-color: #3B4455;\n",
              "      fill: #D2E3FC;\n",
              "    }\n",
              "\n",
              "    [theme=dark] .colab-df-convert:hover {\n",
              "      background-color: #434B5C;\n",
              "      box-shadow: 0px 1px 3px 1px rgba(0, 0, 0, 0.15);\n",
              "      filter: drop-shadow(0px 1px 2px rgba(0, 0, 0, 0.3));\n",
              "      fill: #FFFFFF;\n",
              "    }\n",
              "  </style>\n",
              "\n",
              "      <script>\n",
              "        const buttonEl =\n",
              "          document.querySelector('#df-cb4e194c-8b19-4f7e-9a42-4a9136a0cf27 button.colab-df-convert');\n",
              "        buttonEl.style.display =\n",
              "          google.colab.kernel.accessAllowed ? 'block' : 'none';\n",
              "\n",
              "        async function convertToInteractive(key) {\n",
              "          const element = document.querySelector('#df-cb4e194c-8b19-4f7e-9a42-4a9136a0cf27');\n",
              "          const dataTable =\n",
              "            await google.colab.kernel.invokeFunction('convertToInteractive',\n",
              "                                                     [key], {});\n",
              "          if (!dataTable) return;\n",
              "\n",
              "          const docLinkHtml = 'Like what you see? Visit the ' +\n",
              "            '<a target=\"_blank\" href=https://colab.research.google.com/notebooks/data_table.ipynb>data table notebook</a>'\n",
              "            + ' to learn more about interactive tables.';\n",
              "          element.innerHTML = '';\n",
              "          dataTable['output_type'] = 'display_data';\n",
              "          await google.colab.output.renderOutput(dataTable, element);\n",
              "          const docLink = document.createElement('div');\n",
              "          docLink.innerHTML = docLinkHtml;\n",
              "          element.appendChild(docLink);\n",
              "        }\n",
              "      </script>\n",
              "    </div>\n",
              "  </div>\n",
              "  "
            ]
          },
          "metadata": {},
          "execution_count": 140
        }
      ]
    },
    {
      "cell_type": "markdown",
      "source": [
        "Sort the businesses name : Our Business at the bottom then A, then B going up"
      ],
      "metadata": {
        "id": "BdjsVAAw5SgX"
      }
    },
    {
      "cell_type": "code",
      "source": [
        "lstTemp = list( reversed ( list ( df_long['Business'].unique() )))\n",
        "lstTemp"
      ],
      "metadata": {
        "colab": {
          "base_uri": "https://localhost:8080/"
        },
        "id": "Q8AjeucK3wIG",
        "outputId": "85197d3f-2515-4067-9364-5c3addb854e1"
      },
      "execution_count": 144,
      "outputs": [
        {
          "output_type": "execute_result",
          "data": {
            "text/plain": [
              "['Competitor E',\n",
              " 'Competitor D',\n",
              " 'Competitor C',\n",
              " 'Competitor B',\n",
              " 'Competitor A',\n",
              " 'Our business']"
            ]
          },
          "metadata": {},
          "execution_count": 144
        }
      ]
    },
    {
      "cell_type": "code",
      "execution_count": 145,
      "metadata": {
        "colab": {
          "base_uri": "https://localhost:8080/"
        },
        "id": "enPNLToUzmvW",
        "outputId": "d0670808-20bb-46f1-fc61-6f7a6fd1f863"
      },
      "outputs": [
        {
          "output_type": "execute_result",
          "data": {
            "text/plain": [
              "0    Our business\n",
              "1    Our business\n",
              "2    Our business\n",
              "Name: Business_Cat, dtype: category\n",
              "Categories (6, object): ['Competitor E' < 'Competitor D' < 'Competitor C' < 'Competitor B' <\n",
              "                         'Competitor A' < 'Our business']"
            ]
          },
          "metadata": {},
          "execution_count": 145
        }
      ],
      "source": [
        "from pandas import CategoricalDtype\n",
        "df_long['Business_Cat'] = df_long.Business.astype (CategoricalDtype(ordered=True))\n",
        "df_long['Business_Cat'] = df_long['Business_Cat'].cat.reorder_categories(  lstTemp )\n",
        "df_long['Business_Cat'] [0:3]"
      ]
    },
    {
      "cell_type": "markdown",
      "source": [
        "Sort the Categories "
      ],
      "metadata": {
        "id": "oj0fyn_95lCW"
      }
    },
    {
      "cell_type": "code",
      "source": [
        "lstTemp2 = list ( df_long.Category.unique() )\n",
        "df_long['Category_Cat'] = df_long.Category.astype (CategoricalDtype(ordered=True))\n",
        "df_long['Category_Cat'] = df_long['Category_Cat'].cat.reorder_categories(  lstTemp2 )\n",
        "df_long['Category_Cat'] [0:3]"
      ],
      "metadata": {
        "colab": {
          "base_uri": "https://localhost:8080/"
        },
        "id": "-LBUHKFA5qDN",
        "outputId": "366de880-0de0-4204-bf20-5a5e3843e5bb"
      },
      "execution_count": 146,
      "outputs": [
        {
          "output_type": "execute_result",
          "data": {
            "text/plain": [
              "0           Price\n",
              "1     Convenience\n",
              "2    Relationship\n",
              "Name: Category_Cat, dtype: category\n",
              "Categories (5, object): ['Price' < 'Convenience' < 'Relationship' < 'Service' < 'Selection']"
            ]
          },
          "metadata": {},
          "execution_count": 146
        }
      ]
    },
    {
      "cell_type": "code",
      "execution_count": 98,
      "metadata": {
        "id": "K1EjlRIfzmvX"
      },
      "outputs": [],
      "source": [
        "def SWD_theme ():\n",
        "\n",
        "    # Basic information from the \n",
        "    \n",
        "    font = \"Arial\"\n",
        "    t=theme_minimal(base_size = 10, base_family = font ) \n",
        "\n",
        "    t2 = theme(\n",
        "      panel_grid_major = element_blank(),\n",
        "      panel_grid_minor = element_blank(),\n",
        "\n",
        "      axis_line = element_line(size = .1, color = GRAY9),\n",
        "      axis_text = element_text(color = GRAY3, size = 12),\n",
        "\n",
        "      #axis.ticks.x = element_line(size = 0.5, color = GRAY9),\n",
        "      #axis.ticks.y = element_line(size = 0.5, color = GRAY9),\n",
        "        \n",
        "      axis_title = element_text(color = GRAY5),\n",
        "\n",
        "      #axis_title_y = element_text(hjust = 1, margin = margin(0, 6, 0, 15, \"pt\")),\n",
        "      #axis_title_x = element_text(hjust = 0, margin = margin(6, 0, 15, 0, \"pt\")),\n",
        "      #plot_subtitle = element_text(color = GRAY4, size= 8),\n",
        "\n",
        "      plot_title = element_text(color = GRAY4, size= 12 ),\n",
        "        \n",
        "      # I don't think this line is implemented in plotnine\n",
        "      #plot_title_position = \"plot\", # This aligns the plot title to the very left edge\n",
        "        \n",
        "      #plot_caption = element_text(hjust = 0, color = GRAY6),\n",
        "      #plot_caption_position = \"plot\",\n",
        "\n",
        "      #plot_margin = margin(.5,.5,.5,.5,\"cm\"),\n",
        "      plot_margin = (0.1 ),  \n",
        "        \n",
        "      strip_text = element_text(color = GRAY7)) \n",
        "    \n",
        "    return t+ t2\n"
      ]
    },
    {
      "cell_type": "code",
      "source": [
        "# This list will allow us to order the y axis on the final chart.\n",
        "#l = list ( reversed (df.item.value_counts ( ).index.tolist() ) )\n",
        "#l = list ( df.item.value_counts ( ).index.tolist() ) \n",
        "#l"
      ],
      "metadata": {
        "colab": {
          "base_uri": "https://localhost:8080/"
        },
        "id": "bfXuOEIVOR-6",
        "outputId": "76bef8dc-70b0-40f4-ae6c-3fafd51c7e80"
      },
      "execution_count": null,
      "outputs": [
        {
          "output_type": "execute_result",
          "data": {
            "text/plain": [
              "['Survey item A', 'Survey item B', 'Survey item C', 'Survey item D']"
            ]
          },
          "metadata": {},
          "execution_count": 14
        }
      ]
    },
    {
      "cell_type": "code",
      "source": [
        "from plotnine.themes.themeable import axis_ticks\n",
        "t = theme(         \n",
        "          # Overrides\n",
        "          #axis_title_y = element_text(angle = 90, va = 'bottom', ha = 'left', size = 15, color = GRAY9 ), #, y = 0.52), \n",
        "          axis_title_y = element_blank(), \n",
        "          # Turn off tick labels\n",
        "          axis_ticks_length=0, \n",
        "          \n",
        "          #text=element_text(color=\"red\"),\n",
        "          axis_text=element_text(color=GRAY9),\n",
        "\n",
        "          axis_text_x=element_blank(),\n",
        "          axis_text_y=element_blank(),\n",
        "\n",
        "          panel_grid_major_y=element_blank() ,\n",
        "\n",
        "          # X axis title\n",
        "          #axis_title_x=element_text(angle = 0, va = 'top',ha='left' , size = 12, color = GRAY9 , x=0.1) #, y = 0.52)         \n",
        "\n",
        "          axis_title_x =  element_blank() ,\n",
        "\n",
        "          legend_position = (0, 0.7)  ,\n",
        "\n",
        "          legend_title = element_blank(),\n",
        "          legend_text =  element_text( va = 'bottom', ha = 'left', size = 10, color = GRAY9 ),\n",
        "\n",
        "          strip_text = element_text(color = GRAY7),\n",
        "          panel_background = element_blank(),\n",
        "          axis_ticks = element_blank(),\n",
        "          strip_background = element_blank(),\n",
        "          subplots_adjust={'left': 0.3}        \n",
        ")\n",
        "\n",
        "fig = ( ggplot(data=df_long ) +\n",
        "\n",
        "  geom_col( mapping=aes ( x='Business_Cat', y='Result', fill='Business_Cat' ), width=1   )   +\n",
        "     facet_grid ( 'Category_Cat~.' ) +\n",
        "     scale_fill_manual(values = [GRAY9,GRAY9,GRAY9,GRAY9,GRAY9, BLUE2],  \n",
        "                       labels =[\"Competitor E\",\"Competitor D\",\"Competitor C\",\"Competitor B\",\"Competitor A\", 'Our business'] , \n",
        "                       guide = guide_legend(reverse = True ) )      +\n",
        "     coord_flip()  + \n",
        "     geom_text(aes(x = 'Business_Cat', y = 'Result', label = 'ranking_desc' ),nudge_y = .15,nudge_x = -.2,color = BLUE2,size =6 ) + \n",
        "     SWD_theme() + t\n",
        "       \n",
        ").draw(show=False, return_ggplot=False)\n",
        "\n",
        "# Add in the facet labels that plotnine won't do yet\n",
        "for index,cat in  enumerate ( df_long['Category_Cat'].cat.categories ):\n",
        "    ax = fig.axes[index]\n",
        "    ax.text(-0.30, .45, cat, transform=ax.transAxes, color=GRAY5, fontsize=10)\n",
        "\n",
        "\n",
        "# Blank axis for title, notes (and to fill the screen.)\n",
        "\n",
        "#ax0 = fig.add_axes( (0,0,1,1))\n",
        "#ax0.axis('Off') # don't draw anything.\n",
        "\n",
        "fig.dpi = 200\n",
        "width_in = 5\n",
        "fig.set_size_inches(width_in , width_in/1.62) \n",
        "\n"
      ],
      "metadata": {
        "colab": {
          "base_uri": "https://localhost:8080/",
          "height": 600
        },
        "id": "ohmsBAiO0VPf",
        "outputId": "90cdded2-813e-42e0-fa4a-3755ad5200ae"
      },
      "execution_count": 182,
      "outputs": [
        {
          "output_type": "display_data",
          "data": {
            "text/plain": [
              "<Figure size 1000x617.284 with 5 Axes>"
            ],
            "image/png": "[encoded data removed]"
          },
          "metadata": {}
        }
      ]
    }
  ],
  "metadata": {
    "kernelspec": {
      "display_name": "Python 3",
      "language": "python",
      "name": "python3"
    },
    "language_info": {
      "codemirror_mode": {
        "name": "ipython",
        "version": 3
      },
      "file_extension": ".py",
      "mimetype": "text/x-python",
      "name": "python",
      "nbconvert_exporter": "python",
      "pygments_lexer": "ipython3",
      "version": "3.7.6"
    },
    "colab": {
      "provenance": [],
      "include_colab_link": true
    }
  },
  "nbformat": 4,
  "nbformat_minor": 0
}