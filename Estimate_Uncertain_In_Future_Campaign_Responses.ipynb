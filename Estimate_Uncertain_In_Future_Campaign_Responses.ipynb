{
  "nbformat": 4,
  "nbformat_minor": 0,
  "metadata": {
    "colab": {
      "provenance": [],
      "authorship_tag": "ABX9TyOF9B4Bb7DznVykWKDs5H7p",
      "include_colab_link": true
    },
    "kernelspec": {
      "name": "python3",
      "display_name": "Python 3"
    },
    "language_info": {
      "name": "python"
    }
  },
  "cells": [
    {
      "cell_type": "markdown",
      "metadata": {
        "id": "view-in-github",
        "colab_type": "text"
      },
      "source": [
        "<a href=\"https://colab.research.google.com/github/steed360/3D-Graphics/blob/master/Estimate_Uncertain_In_Future_Campaign_Responses.ipynb\" target=\"_parent\"><img src=\"https://colab.research.google.com/assets/colab-badge.svg\" alt=\"Open In Colab\"/></a>"
      ]
    },
    {
      "cell_type": "markdown",
      "source": [
        "**ESTIMATING UNCERTAINTY OF FUTURE CAMPAIGN RESPONSES**\n",
        "\n"
      ],
      "metadata": {
        "id": "fiuQk2vI3hXY"
      }
    },
    {
      "cell_type": "markdown",
      "source": [
        "**Purpose of this Notebook**\n",
        "\n",
        "Investigation into predicting campaign effectiveness.  \n",
        "\n",
        "Scenario: A previous campaign contacted 1000 people and had a response rate of 5%. Repeating the campaign (e.g. on a different subset of the same segment), how many responses can be expected?\n",
        "\n",
        "Assuming an underlying Bernouilli variable (underlying response propensity) of 0.05 (5%), show different ways to apply this in predicting the expected number of responses to a new campaign. \n",
        "\n",
        "Here 4 different ways are calculated:\n",
        "\n",
        "\n",
        "\n",
        "IGNORING UNCERTAINTY\n",
        "\n",
        "\n",
        "a)  Apply a **fixed point** (multiply the unseen sample by 0.05). So to find the expected response rate, simply  multiply the number of people to be contacted by 0.05. \n",
        "\n",
        "ACCOUNT FOR KNOWN UNKNOWNS\n",
        "\n",
        "b)  Acknowledge **sampling error**. Sample a lot of response probabilities from the sampling distribution (given by the Binomial Distribution). Apply each of these in turn as in a). This will give a simulated distribution (posterior distribution).  Find the 5th and 85th percentiles from each. \n",
        "\n",
        "Note that this gives and identical result to calculating the 95% confidence interval in the classical (Frequentist) way.\n",
        "\n",
        "c) Acknowledge that the above method does not cover all of the uncertainty in the data.  Repeat the above but this time instead of multiplying each probability by the new campaign size, actually use the probability to predict an outcome (using the Binomial distribution a second time). In Bayesian Statistics Terms this gives the Predictive Posterior Distribution.\n",
        "\n",
        "Sample from this many times and, again, find the response values that lie on the 5% and 95%  the credible interval.\n",
        "\n",
        "GUESS UNKNOWN UNKNOWNS\n",
        "\n",
        "d) Here just add a factor of 10 to the above confidence intervals.\n",
        "\n",
        "\n"
      ],
      "metadata": {
        "id": "QHkIvHoLwhBn"
      }
    },
    {
      "cell_type": "code",
      "source": [
        "import arviz as az\n",
        "import matplotlib.pyplot as plt\n",
        "import numpy as np\n",
        "#import pymc3 as pm\n",
        "import pandas as pd\n",
        "import scipy.stats as stats\n",
        "import seaborn as sns\n",
        "#from scipy.interpolate import griddata"
      ],
      "metadata": {
        "id": "ocmufNDhzF6K"
      },
      "execution_count": 235,
      "outputs": []
    },
    {
      "cell_type": "markdown",
      "source": [
        "**Notebook structure**\n",
        "<bR><bR>\n",
        "TOP:  Calculate the distributions for b) and c) above. \n",
        "Two dataframes: one showing the simulations for next campaign.\n",
        "The other carries 95% interval values. \n",
        "Both are used in the charts.\n",
        "<bR><bR>\n",
        "BOTTOM: Make a visualization in matplotlib/plotnine."
      ],
      "metadata": {
        "id": "rvnWvFf7zAm_"
      }
    },
    {
      "cell_type": "code",
      "source": [],
      "metadata": {
        "id": "wGQQoUGrz9vG"
      },
      "execution_count": null,
      "outputs": []
    },
    {
      "cell_type": "markdown",
      "source": [
        "**CALULATIONS**"
      ],
      "metadata": {
        "id": "D8-BjlrSz16l"
      }
    },
    {
      "cell_type": "code",
      "source": [
        "Original_Campaign_Size       = 1000 # sample size\n",
        "New_Campaign_Size            = 1000\n",
        "Original_Response_Rate       = 0.1  # NB: Assumption is IID Bernouilli variable\n",
        "Original_Campaign_Responses  = Original_Campaign_Size * Original_Response_Rate\n",
        "\n"
      ],
      "metadata": {
        "id": "vuBVXVViz_7n"
      },
      "execution_count": 237,
      "outputs": []
    },
    {
      "cell_type": "markdown",
      "source": [
        "TASK A) Esimate the new number of responses"
      ],
      "metadata": {
        "id": "IPE1G_Dn056V"
      }
    },
    {
      "cell_type": "code",
      "source": [
        "# Part a) \n",
        "New_Campaign_Responses = New_Campaign_Size * Original_Response_Rate  "
      ],
      "metadata": {
        "id": "25M3M0Us09xi"
      },
      "execution_count": 240,
      "outputs": []
    },
    {
      "cell_type": "markdown",
      "source": [
        "TASK B) Account for sampling error (using the binomial sampling distribution) "
      ],
      "metadata": {
        "id": "ZTxYB0Rw0Wg0"
      }
    },
    {
      "cell_type": "code",
      "source": [
        "# Set up a list of underlying possible response_rates \n",
        "# The distribution plotted sums up to 1 and the height of the curve (0.1) \n",
        "# represents the most plausible value in the population.\n",
        "\n",
        "grid_points = 1000\n",
        "p_grid = np.linspace ( 0, 1, grid_points )\n",
        "prior  = np.repeat ( 5, grid_points )  # this is a completley uniformative prior that will get washed away\n",
        "ustd_posterior = stats.binom.pmf ( k=Original_Campaign_Responses, n=Original_Campaign_Size, p= p_grid ) * prior\n",
        "posterior = ustd_posterior / ustd_posterior.sum()\n",
        "plt.plot (p_grid, posterior, 'o')"
      ],
      "metadata": {
        "colab": {
          "base_uri": "https://localhost:8080/",
          "height": 282
        },
        "id": "tXLBWT-m0eMX",
        "outputId": "0fd0a685-1959-48cd-e349-f039b1f44bfa"
      },
      "execution_count": 241,
      "outputs": [
        {
          "output_type": "execute_result",
          "data": {
            "text/plain": [
              "[<matplotlib.lines.Line2D at 0x7f9fbac7f280>]"
            ]
          },
          "metadata": {},
          "execution_count": 241
        },
        {
          "output_type": "display_data",
          "data": {
            "text/plain": [
              "<Figure size 432x288 with 1 Axes>"
            ],
            "image/png": "[encoded data removed]"
          },
          "metadata": {
            "needs_background": "light"
          }
        }
      ]
    },
    {
      "cell_type": "markdown",
      "source": [
        "b2) Calculate the confidence intervals the Bayesisan way"
      ],
      "metadata": {
        "id": "H5NtWIyn1JT_"
      }
    },
    {
      "cell_type": "code",
      "source": [
        "# Calculate the 90% confidence interval. \n",
        "# Firstly do it the Bayesian Analysis way.\n",
        "\n",
        "# Get 1000 samples from the above distribution\n",
        "\n",
        "#samples_b = np.random.choice(p_grid, p=posterior, size=int(1e5), replace=True)\n",
        "samples_b = np.random.choice(p_grid, p=posterior, size=New_Campaign_Size, replace=True)\n",
        "\n",
        "# If you have samples the confidence intervals are just percentiles.\n",
        "lstCI_b = np.percentile (samples_b, [2.5,97.5])\n",
        "\n",
        "az.plot_kde ( samples_b)\n",
        "plt.axvline (lstCI_b[0] )\n",
        "plt.axvline (lstCI_b[1] )\n",
        "\n",
        "# The figures below are the upper and lower bounds that the population response_rate could be (if IID)\n",
        "# The interval is also shown on the chart.\n",
        "# The chart is a simulation from the sampling distribution. You could use this in a violin plot as well of course."
      ],
      "metadata": {
        "colab": {
          "base_uri": "https://localhost:8080/",
          "height": 286
        },
        "id": "tzqZV3Ef1OXb",
        "outputId": "b59fc7c0-9676-4a10-dea8-d2ab01f38d5d"
      },
      "execution_count": 271,
      "outputs": [
        {
          "output_type": "execute_result",
          "data": {
            "text/plain": [
              "<matplotlib.lines.Line2D at 0x7f9fbad15a90>"
            ]
          },
          "metadata": {},
          "execution_count": 271
        },
        {
          "output_type": "display_data",
          "data": {
            "text/plain": [
              "<Figure size 432x288 with 1 Axes>"
            ],
            "image/png": "[encoded data removed]"
          },
          "metadata": {
            "needs_background": "light"
          }
        }
      ]
    },
    {
      "cell_type": "code",
      "source": [
        "# Here is the 95% confidence interval (which is the same using the school book method)\n",
        "\n",
        "# If you have samples the confidence intervals are just percentiles.\n",
        "lstCI_b = np.percentile (samples_b, [2.5,97.5])\n",
        "lstCI_b"
      ],
      "metadata": {
        "colab": {
          "base_uri": "https://localhost:8080/"
        },
        "id": "gBNDhY071GeS",
        "outputId": "31ab0259-e60e-4f89-8cb9-55596338c227"
      },
      "execution_count": 272,
      "outputs": [
        {
          "output_type": "execute_result",
          "data": {
            "text/plain": [
              "array([0.08208208, 0.12012012])"
            ]
          },
          "metadata": {},
          "execution_count": 272
        }
      ]
    },
    {
      "cell_type": "markdown",
      "source": [
        "b_iii Apply the values at the lower and upper confidence interval bounds to the future campaign"
      ],
      "metadata": {
        "id": "F6RY-nmZ14J1"
      }
    },
    {
      "cell_type": "code",
      "source": [
        "# This is the expected (95%) confidence range.\n",
        "print ( New_Campaign_Size * lstCI_b [0] ) \n",
        "print ( New_Campaign_Size * lstCI_b [1] ) "
      ],
      "metadata": {
        "colab": {
          "base_uri": "https://localhost:8080/"
        },
        "id": "Fs99a-_N18de",
        "outputId": "e8597605-ab16-4875-867e-ba7bfecf0b97"
      },
      "execution_count": 249,
      "outputs": [
        {
          "output_type": "stream",
          "name": "stdout",
          "text": [
            "83.08308308308308\n",
            "120.12012012012012\n"
          ]
        }
      ]
    },
    {
      "cell_type": "markdown",
      "source": [],
      "metadata": {
        "id": "ZXRK6IVB-R0y"
      }
    },
    {
      "cell_type": "markdown",
      "source": [
        "b_iv For graphing, turn the list of 1000 probabilities into a simulation of expected responses"
      ],
      "metadata": {
        "id": "4DvBXZ-7-SEY"
      }
    },
    {
      "cell_type": "code",
      "source": [
        "samples_b_final =  samples_b * New_Campaign_Size\n"
      ],
      "metadata": {
        "id": "hubCOxmP-dku"
      },
      "execution_count": 274,
      "outputs": []
    },
    {
      "cell_type": "markdown",
      "source": [
        "b_v Now we can double check the confidence intervals."
      ],
      "metadata": {
        "id": "-DMpHn3b-l01"
      }
    },
    {
      "cell_type": "code",
      "source": [
        "# If you have samples the confidence intervals are just percentiles.\n",
        "np.percentile (samples_b_final, [2.5,97.5])\n"
      ],
      "metadata": {
        "colab": {
          "base_uri": "https://localhost:8080/"
        },
        "id": "0a1PKPO3-pd8",
        "outputId": "6176e406-db99-4a26-ed96-cf18e8634f56"
      },
      "execution_count": 275,
      "outputs": [
        {
          "output_type": "execute_result",
          "data": {
            "text/plain": [
              "array([ 82.08208208, 120.12012012])"
            ]
          },
          "metadata": {},
          "execution_count": 275
        }
      ]
    },
    {
      "cell_type": "code",
      "source": [],
      "metadata": {
        "id": "u2Y9q0u7-IQW"
      },
      "execution_count": null,
      "outputs": []
    },
    {
      "cell_type": "markdown",
      "source": [
        "TASK C) Sample probabilities from the posterior and then simulate from that to create a predictive posterior and then simulate from  that.\n",
        "\n",
        "This will give a slightly broader spread of possible future campaign responeses than B because it builds in more of the known uncertainty."
      ],
      "metadata": {
        "id": "x_QssmKs2L0K"
      }
    },
    {
      "cell_type": "code",
      "source": [
        "# We have already calculated the posterior and have the grid points:\n",
        "#grid_points\n",
        "#posterior\n",
        "\n",
        "#probs = np.random.choice(p_grid, p=posterior, size=int(1e5), replace=True)\n",
        "\n",
        "# previous code\n",
        "#samples = np.random.choice(p_grid, p=posterior, size=int(1e5), replace=True)\n",
        "\n",
        "# New code\n",
        "number_of_simulations= New_Campaign_Size\n",
        "campaign_size = 1000\n",
        "\n",
        "probs = np.random.choice(p_grid, p=posterior, size=New_Campaign_Size, replace=True)\n",
        "samples_c = stats.binom.rvs(n=campaign_size, p= probs, size=New_Campaign_Size )\n",
        "\n",
        "# samples_c = stats.binom.rvs(n=campaign_size, p= probs, size=10000 )\n",
        "\n",
        "az.plot_kde ( samples_c)\n",
        "\n",
        "# If you have samples the confidence intervals are just percentiles.\n",
        "lstCI_c = np.percentile (samples_c, [2.5,97.5])\n",
        "# print (  lstCI_c)\n",
        "plt.axvline (lstCI_c[0] )\n",
        "plt.axvline (lstCI_c[1] )\n",
        "\n",
        "# This is a broader distribution than before.\n",
        "#print ( [ lstCI[0] / trials, lstCI[1]/ trials ])"
      ],
      "metadata": {
        "colab": {
          "base_uri": "https://localhost:8080/",
          "height": 286
        },
        "id": "hmUS01It2PzJ",
        "outputId": "b9d5389b-da29-433e-ea18-af40b20723ea"
      },
      "execution_count": 270,
      "outputs": [
        {
          "output_type": "execute_result",
          "data": {
            "text/plain": [
              "<matplotlib.lines.Line2D at 0x7f9fb2902910>"
            ]
          },
          "metadata": {},
          "execution_count": 270
        },
        {
          "output_type": "display_data",
          "data": {
            "text/plain": [
              "<Figure size 432x288 with 1 Axes>"
            ],
            "image/png": "[encoded data removed]"
          },
          "metadata": {
            "needs_background": "light"
          }
        }
      ]
    },
    {
      "cell_type": "markdown",
      "source": [
        "C1) Extract the upper and lower bounds (the lines)"
      ],
      "metadata": {
        "id": "Pm4ZomMK2vba"
      }
    },
    {
      "cell_type": "code",
      "source": [
        "lstCI_c = np.percentile (samples, [2.5,97.5])\n",
        "print (  lstCI_c)"
      ],
      "metadata": {
        "colab": {
          "base_uri": "https://localhost:8080/"
        },
        "id": "GpKIQSKa2zzO",
        "outputId": "527dab14-a6e4-4b19-8ae6-d9c455e9dc5b"
      },
      "execution_count": 253,
      "outputs": [
        {
          "output_type": "stream",
          "name": "stdout",
          "text": [
            "[ 76. 129.]\n"
          ]
        }
      ]
    },
    {
      "cell_type": "markdown",
      "source": [
        "**NOW PACK UP THE DATA AND STATISTICS GENERATED INTO DATA FRAMES**"
      ],
      "metadata": {
        "id": "UyTNl7NB27po"
      }
    },
    {
      "cell_type": "markdown",
      "source": [
        "First the simulations from B) and C) - 1000 future campaigns were simulated"
      ],
      "metadata": {
        "id": "rOntri2z3CGz"
      }
    },
    {
      "cell_type": "code",
      "source": [
        "len ( samples_b )"
      ],
      "metadata": {
        "colab": {
          "base_uri": "https://localhost:8080/"
        },
        "id": "EP632Crm9MwO",
        "outputId": "afbc4605-fddb-4f53-83b1-ee338dffc6cc"
      },
      "execution_count": 267,
      "outputs": [
        {
          "output_type": "execute_result",
          "data": {
            "text/plain": [
              "100000"
            ]
          },
          "metadata": {},
          "execution_count": 267
        }
      ]
    },
    {
      "cell_type": "code",
      "source": [
        "New_Campaign_Size"
      ],
      "metadata": {
        "colab": {
          "base_uri": "https://localhost:8080/"
        },
        "id": "F_IZBXfO9KVv",
        "outputId": "187f37a8-99ac-439f-8db8-8b440e80446e"
      },
      "execution_count": 265,
      "outputs": [
        {
          "output_type": "execute_result",
          "data": {
            "text/plain": [
              "1000"
            ]
          },
          "metadata": {},
          "execution_count": 265
        }
      ]
    },
    {
      "cell_type": "code",
      "source": [
        "np.random.seed(123)\n",
        "n = 20\n",
        "mu = (10, 10)\n",
        "sigma = (1, 3.6)\n",
        "\n",
        "#point_estimate = np.repeat ( 5,1)\n",
        "#before = np.random.normal(loc=mu[0], scale=sigma[0], size=n)\n",
        "#after  = np.random.normal(loc=mu[1], scale=sigma[1], size=n)\n",
        "\n",
        "#point_estimate_when  = np.repeat ( 'point\\nestimate',1)\n",
        "#before_when   = np.repeat ( 'before', New_Campaign_Size)\n",
        "#after_when  = np.repeat ( 'after   ', New_Campaign_Size   )\n",
        "\n",
        "print ( np.percentile ( before, [5,95]) )\n",
        "\n",
        "df = pd.DataFrame({\n",
        "    \n",
        "    'value'    :  np.hstack([ samples_b_final, samples_c] )  ,\n",
        "    'scenario':   np.hstack ( [  np.repeat ( 'b) Apply\\nSampling\\Distribution', New_Campaign_Size)  , \\\n",
        "                                 np.repeat ( 'c) Use all known\\nuncertainty',   New_Campaign_Size)  ]),\n",
        "})\n",
        "\n",
        "df['scenario'] = df['scenario'].astype(pdtypes.CategoricalDtype(categories=['a) Point\\nestimate', 'b) Apply\\nSampling\\Distribution', 'c) Use all known\\nuncertainty', 'd)Add extra\\nuncertainty']))\n",
        "\n",
        "\n",
        "\n",
        "# DataFrame for the summary information about the distributions.\n",
        "\n",
        "df_sum = pd.DataFrame ( \n",
        "   {\n",
        "       'scenario' : ['a) Point\\nestimate', 'b) Apply\\nSampling\\Distribution', 'c) Use all known\\nuncertainty', 'c) Use all known\\nuncertainty', 'd)Add extra\\nuncertainty'],\n",
        "       'vals' : [7,9, 6,11, 5 ],\n",
        "   }\n",
        ") \n",
        "\n",
        "\n",
        "df_sum"
      ],
      "metadata": {
        "colab": {
          "base_uri": "https://localhost:8080/",
          "height": 224
        },
        "id": "2qA6H-f234iI",
        "outputId": "e6c2db03-cf09-4bc1-8438-798d2f463d2e"
      },
      "execution_count": 278,
      "outputs": [
        {
          "output_type": "stream",
          "name": "stdout",
          "text": [
            "[ 8.44768606 12.18774329]\n"
          ]
        },
        {
          "output_type": "execute_result",
          "data": {
            "text/plain": [
              "                          scenario  vals\n",
              "0               a) Point\\nestimate     7\n",
              "1  b) Apply\\nSampling\\Distribution     9\n",
              "2    c) Use all known\\nuncertainty     6\n",
              "3    c) Use all known\\nuncertainty    11\n",
              "4         d)Add extra\\nuncertainty     5"
            ],
            "text/html": [
              "\n",
              "  <div id=\"df-20b38e27-63f0-4d8f-8dd8-e2b1992b3da0\">\n",
              "    <div class=\"colab-df-container\">\n",
              "      <div>\n",
              "<style scoped>\n",
              "    .dataframe tbody tr th:only-of-type {\n",
              "        vertical-align: middle;\n",
              "    }\n",
              "\n",
              "    .dataframe tbody tr th {\n",
              "        vertical-align: top;\n",
              "    }\n",
              "\n",
              "    .dataframe thead th {\n",
              "        text-align: right;\n",
              "    }\n",
              "</style>\n",
              "<table border=\"1\" class=\"dataframe\">\n",
              "  <thead>\n",
              "    <tr style=\"text-align: right;\">\n",
              "      <th></th>\n",
              "      <th>scenario</th>\n",
              "      <th>vals</th>\n",
              "    </tr>\n",
              "  </thead>\n",
              "  <tbody>\n",
              "    <tr>\n",
              "      <th>0</th>\n",
              "      <td>a) Point\\nestimate</td>\n",
              "      <td>7</td>\n",
              "    </tr>\n",
              "    <tr>\n",
              "      <th>1</th>\n",
              "      <td>b) Apply\\nSampling\\Distribution</td>\n",
              "      <td>9</td>\n",
              "    </tr>\n",
              "    <tr>\n",
              "      <th>2</th>\n",
              "      <td>c) Use all known\\nuncertainty</td>\n",
              "      <td>6</td>\n",
              "    </tr>\n",
              "    <tr>\n",
              "      <th>3</th>\n",
              "      <td>c) Use all known\\nuncertainty</td>\n",
              "      <td>11</td>\n",
              "    </tr>\n",
              "    <tr>\n",
              "      <th>4</th>\n",
              "      <td>d)Add extra\\nuncertainty</td>\n",
              "      <td>5</td>\n",
              "    </tr>\n",
              "  </tbody>\n",
              "</table>\n",
              "</div>\n",
              "      <button class=\"colab-df-convert\" onclick=\"convertToInteractive('df-20b38e27-63f0-4d8f-8dd8-e2b1992b3da0')\"\n",
              "              title=\"Convert this dataframe to an interactive table.\"\n",
              "              style=\"display:none;\">\n",
              "        \n",
              "  <svg xmlns=\"http://www.w3.org/2000/svg\" height=\"24px\"viewBox=\"0 0 24 24\"\n",
              "       width=\"24px\">\n",
              "    <path d=\"M0 0h24v24H0V0z\" fill=\"none\"/>\n",
              "    <path d=\"M18.56 5.44l.94 2.06.94-2.06 2.06-.94-2.06-.94-.94-2.06-.94 2.06-2.06.94zm-11 1L8.5 8.5l.94-2.06 2.06-.94-2.06-.94L8.5 2.5l-.94 2.06-2.06.94zm10 10l.94 2.06.94-2.06 2.06-.94-2.06-.94-.94-2.06-.94 2.06-2.06.94z\"/><path d=\"M17.41 7.96l-1.37-1.37c-.4-.4-.92-.59-1.43-.59-.52 0-1.04.2-1.43.59L10.3 9.45l-7.72 7.72c-.78.78-.78 2.05 0 2.83L4 21.41c.39.39.9.59 1.41.59.51 0 1.02-.2 1.41-.59l7.78-7.78 2.81-2.81c.8-.78.8-2.07 0-2.86zM5.41 20L4 18.59l7.72-7.72 1.47 1.35L5.41 20z\"/>\n",
              "  </svg>\n",
              "      </button>\n",
              "      \n",
              "  <style>\n",
              "    .colab-df-container {\n",
              "      display:flex;\n",
              "      flex-wrap:wrap;\n",
              "      gap: 12px;\n",
              "    }\n",
              "\n",
              "    .colab-df-convert {\n",
              "      background-color: #E8F0FE;\n",
              "      border: none;\n",
              "      border-radius: 50%;\n",
              "      cursor: pointer;\n",
              "      display: none;\n",
              "      fill: #1967D2;\n",
              "      height: 32px;\n",
              "      padding: 0 0 0 0;\n",
              "      width: 32px;\n",
              "    }\n",
              "\n",
              "    .colab-df-convert:hover {\n",
              "      background-color: #E2EBFA;\n",
              "      box-shadow: 0px 1px 2px rgba(60, 64, 67, 0.3), 0px 1px 3px 1px rgba(60, 64, 67, 0.15);\n",
              "      fill: #174EA6;\n",
              "    }\n",
              "\n",
              "    [theme=dark] .colab-df-convert {\n",
              "      background-color: #3B4455;\n",
              "      fill: #D2E3FC;\n",
              "    }\n",
              "\n",
              "    [theme=dark] .colab-df-convert:hover {\n",
              "      background-color: #434B5C;\n",
              "      box-shadow: 0px 1px 3px 1px rgba(0, 0, 0, 0.15);\n",
              "      filter: drop-shadow(0px 1px 2px rgba(0, 0, 0, 0.3));\n",
              "      fill: #FFFFFF;\n",
              "    }\n",
              "  </style>\n",
              "\n",
              "      <script>\n",
              "        const buttonEl =\n",
              "          document.querySelector('#df-20b38e27-63f0-4d8f-8dd8-e2b1992b3da0 button.colab-df-convert');\n",
              "        buttonEl.style.display =\n",
              "          google.colab.kernel.accessAllowed ? 'block' : 'none';\n",
              "\n",
              "        async function convertToInteractive(key) {\n",
              "          const element = document.querySelector('#df-20b38e27-63f0-4d8f-8dd8-e2b1992b3da0');\n",
              "          const dataTable =\n",
              "            await google.colab.kernel.invokeFunction('convertToInteractive',\n",
              "                                                     [key], {});\n",
              "          if (!dataTable) return;\n",
              "\n",
              "          const docLinkHtml = 'Like what you see? Visit the ' +\n",
              "            '<a target=\"_blank\" href=https://colab.research.google.com/notebooks/data_table.ipynb>data table notebook</a>'\n",
              "            + ' to learn more about interactive tables.';\n",
              "          element.innerHTML = '';\n",
              "          dataTable['output_type'] = 'display_data';\n",
              "          await google.colab.output.renderOutput(dataTable, element);\n",
              "          const docLink = document.createElement('div');\n",
              "          docLink.innerHTML = docLinkHtml;\n",
              "          element.appendChild(docLink);\n",
              "        }\n",
              "      </script>\n",
              "    </div>\n",
              "  </div>\n",
              "  "
            ]
          },
          "metadata": {},
          "execution_count": 278
        }
      ]
    },
    {
      "cell_type": "markdown",
      "source": [],
      "metadata": {
        "id": "nvfYh1Ps1s2u"
      }
    },
    {
      "cell_type": "code",
      "execution_count": 133,
      "metadata": {
        "id": "dYZd1wrw_wox"
      },
      "outputs": [],
      "source": [
        "import numpy as np\n",
        "import matplotlib.pyplot as plt \n",
        "from matplotlib import transforms\n",
        "import matplotlib\n",
        "\n",
        "\n",
        "import pandas as pd\n",
        "import pandas.api.types as pdtypes # for (sorted) categories.\n",
        "\n",
        "import seaborn as sns\n",
        "#from matplotlib.ticker import FixedLocator, FixedFormatter\n",
        "\n",
        "from plotnine import ggplot, geom_point, aes, stat_smooth, facet_wrap\n",
        "from plotnine import *\n",
        "from plotnine import ggplot, geom_point, aes, stat_smooth, facet_wrap, geom_line\n",
        "from plotnine import ggplot  # https://plotnine.readthedocs.io/en/stable/\n",
        "import pandas as pd\n",
        "import plotnine\n",
        "\n",
        "%matplotlib inline\n",
        "from  mizani import formatters # for better axis labelling\n",
        "from matplotlib.ticker import FixedLocator, FixedFormatter\n",
        "from matplotlib.patches import Rectangle\n"
      ]
    },
    {
      "cell_type": "code",
      "source": [
        "# define colors\n",
        "GRAY1, GRAY2, GRAY3 = '#231F20', '#414040', '#555655'\n",
        "GRAY4, GRAY5, GRAY6 = '#646369', '#76787B', '#828282'\n",
        "GRAY7, GRAY8, GRAY9 = '#929497', '#A6A6A5', '#BFBEBE'\n",
        "BLUE1, BLUE2, BLUE3, BLUE4 = '#174A7E', '#4A81BF', '#94B2D7', '#94AFC5'\n",
        "BLUE5, BLUE6 = '#92CDDD', '#2E869D'\n",
        "RED1, RED2 = '#C3514E', '#E6BAB7'\n",
        "GREEN1, GREEN2 = '#0C8040', '#9ABB59'\n",
        "ORANGE1, ORANGE2, ORANGE3 = '#F79747', '#FAC090', '#F36721'"
      ],
      "metadata": {
        "id": "xyUw9n0AATHt"
      },
      "execution_count": 14,
      "outputs": []
    },
    {
      "cell_type": "code",
      "source": [],
      "metadata": {
        "id": "sfDj8GWPVql4"
      },
      "execution_count": 14,
      "outputs": []
    },
    {
      "cell_type": "code",
      "source": [
        "np.repeat ( 3,1 )"
      ],
      "metadata": {
        "colab": {
          "base_uri": "https://localhost:8080/"
        },
        "id": "2jmcEwEUai_S",
        "outputId": "1b40444a-80dd-4129-db62-966e5c79ca98"
      },
      "execution_count": 15,
      "outputs": [
        {
          "output_type": "execute_result",
          "data": {
            "text/plain": [
              "array([3])"
            ]
          },
          "metadata": {},
          "execution_count": 15
        }
      ]
    },
    {
      "cell_type": "code",
      "source": [
        "np.random.seed(123)\n",
        "n = 20\n",
        "mu = (10, 10)\n",
        "sigma = (1, 3.6)\n",
        "\n",
        "point_estimate = np.repeat ( 5,1)\n",
        "before = np.random.normal(loc=mu[0], scale=sigma[0], size=n)\n",
        "after  = np.random.normal(loc=mu[1], scale=sigma[1], size=n)\n",
        "\n",
        "point_estimate_when  = np.repeat ( 'point\\nestimate',1)\n",
        "before_when   = np.repeat ( 'before', n)\n",
        "after_when  = np.repeat ( 'after', n)\n",
        "\n",
        "print ( np.percentile ( before, [5,95]) )\n",
        "\n",
        "df = pd.DataFrame({\n",
        "    \n",
        "    'value':  np.hstack([point_estimate, before, after] )  ,\n",
        "    'scenario':   np.hstack ( [point_estimate_when, before_when, after_when]),\n",
        "    #'when':   np.repeat( [ 'before', 'after'], n),\n",
        "})\n",
        "\n",
        "df['when'] = df['when'].astype(pdtypes.CategoricalDtype(categories=['point\\nestimate', 'before', 'after', 'other']))\n",
        "df.head()\n",
        "\n",
        "\n",
        "\n"
      ],
      "metadata": {
        "colab": {
          "base_uri": "https://localhost:8080/",
          "height": 224
        },
        "id": "YyJPQHGSLSxl",
        "outputId": "7432106f-a131-4bf8-9a35-86bc37490439"
      },
      "execution_count": 16,
      "outputs": [
        {
          "output_type": "stream",
          "name": "stdout",
          "text": [
            "[ 8.44768606 12.18774329]\n"
          ]
        },
        {
          "output_type": "execute_result",
          "data": {
            "text/plain": [
              "       value             when\n",
              "0   5.000000  point\\nestimate\n",
              "1   8.914369           before\n",
              "2  10.997345           before\n",
              "3  10.282978           before\n",
              "4   8.493705           before"
            ],
            "text/html": [
              "\n",
              "  <div id=\"df-8af1f39a-dfcf-4e28-90ea-7a4a616cf1a8\">\n",
              "    <div class=\"colab-df-container\">\n",
              "      <div>\n",
              "<style scoped>\n",
              "    .dataframe tbody tr th:only-of-type {\n",
              "        vertical-align: middle;\n",
              "    }\n",
              "\n",
              "    .dataframe tbody tr th {\n",
              "        vertical-align: top;\n",
              "    }\n",
              "\n",
              "    .dataframe thead th {\n",
              "        text-align: right;\n",
              "    }\n",
              "</style>\n",
              "<table border=\"1\" class=\"dataframe\">\n",
              "  <thead>\n",
              "    <tr style=\"text-align: right;\">\n",
              "      <th></th>\n",
              "      <th>value</th>\n",
              "      <th>when</th>\n",
              "    </tr>\n",
              "  </thead>\n",
              "  <tbody>\n",
              "    <tr>\n",
              "      <th>0</th>\n",
              "      <td>5.000000</td>\n",
              "      <td>point\\nestimate</td>\n",
              "    </tr>\n",
              "    <tr>\n",
              "      <th>1</th>\n",
              "      <td>8.914369</td>\n",
              "      <td>before</td>\n",
              "    </tr>\n",
              "    <tr>\n",
              "      <th>2</th>\n",
              "      <td>10.997345</td>\n",
              "      <td>before</td>\n",
              "    </tr>\n",
              "    <tr>\n",
              "      <th>3</th>\n",
              "      <td>10.282978</td>\n",
              "      <td>before</td>\n",
              "    </tr>\n",
              "    <tr>\n",
              "      <th>4</th>\n",
              "      <td>8.493705</td>\n",
              "      <td>before</td>\n",
              "    </tr>\n",
              "  </tbody>\n",
              "</table>\n",
              "</div>\n",
              "      <button class=\"colab-df-convert\" onclick=\"convertToInteractive('df-8af1f39a-dfcf-4e28-90ea-7a4a616cf1a8')\"\n",
              "              title=\"Convert this dataframe to an interactive table.\"\n",
              "              style=\"display:none;\">\n",
              "        \n",
              "  <svg xmlns=\"http://www.w3.org/2000/svg\" height=\"24px\"viewBox=\"0 0 24 24\"\n",
              "       width=\"24px\">\n",
              "    <path d=\"M0 0h24v24H0V0z\" fill=\"none\"/>\n",
              "    <path d=\"M18.56 5.44l.94 2.06.94-2.06 2.06-.94-2.06-.94-.94-2.06-.94 2.06-2.06.94zm-11 1L8.5 8.5l.94-2.06 2.06-.94-2.06-.94L8.5 2.5l-.94 2.06-2.06.94zm10 10l.94 2.06.94-2.06 2.06-.94-2.06-.94-.94-2.06-.94 2.06-2.06.94z\"/><path d=\"M17.41 7.96l-1.37-1.37c-.4-.4-.92-.59-1.43-.59-.52 0-1.04.2-1.43.59L10.3 9.45l-7.72 7.72c-.78.78-.78 2.05 0 2.83L4 21.41c.39.39.9.59 1.41.59.51 0 1.02-.2 1.41-.59l7.78-7.78 2.81-2.81c.8-.78.8-2.07 0-2.86zM5.41 20L4 18.59l7.72-7.72 1.47 1.35L5.41 20z\"/>\n",
              "  </svg>\n",
              "      </button>\n",
              "      \n",
              "  <style>\n",
              "    .colab-df-container {\n",
              "      display:flex;\n",
              "      flex-wrap:wrap;\n",
              "      gap: 12px;\n",
              "    }\n",
              "\n",
              "    .colab-df-convert {\n",
              "      background-color: #E8F0FE;\n",
              "      border: none;\n",
              "      border-radius: 50%;\n",
              "      cursor: pointer;\n",
              "      display: none;\n",
              "      fill: #1967D2;\n",
              "      height: 32px;\n",
              "      padding: 0 0 0 0;\n",
              "      width: 32px;\n",
              "    }\n",
              "\n",
              "    .colab-df-convert:hover {\n",
              "      background-color: #E2EBFA;\n",
              "      box-shadow: 0px 1px 2px rgba(60, 64, 67, 0.3), 0px 1px 3px 1px rgba(60, 64, 67, 0.15);\n",
              "      fill: #174EA6;\n",
              "    }\n",
              "\n",
              "    [theme=dark] .colab-df-convert {\n",
              "      background-color: #3B4455;\n",
              "      fill: #D2E3FC;\n",
              "    }\n",
              "\n",
              "    [theme=dark] .colab-df-convert:hover {\n",
              "      background-color: #434B5C;\n",
              "      box-shadow: 0px 1px 3px 1px rgba(0, 0, 0, 0.15);\n",
              "      filter: drop-shadow(0px 1px 2px rgba(0, 0, 0, 0.3));\n",
              "      fill: #FFFFFF;\n",
              "    }\n",
              "  </style>\n",
              "\n",
              "      <script>\n",
              "        const buttonEl =\n",
              "          document.querySelector('#df-8af1f39a-dfcf-4e28-90ea-7a4a616cf1a8 button.colab-df-convert');\n",
              "        buttonEl.style.display =\n",
              "          google.colab.kernel.accessAllowed ? 'block' : 'none';\n",
              "\n",
              "        async function convertToInteractive(key) {\n",
              "          const element = document.querySelector('#df-8af1f39a-dfcf-4e28-90ea-7a4a616cf1a8');\n",
              "          const dataTable =\n",
              "            await google.colab.kernel.invokeFunction('convertToInteractive',\n",
              "                                                     [key], {});\n",
              "          if (!dataTable) return;\n",
              "\n",
              "          const docLinkHtml = 'Like what you see? Visit the ' +\n",
              "            '<a target=\"_blank\" href=https://colab.research.google.com/notebooks/data_table.ipynb>data table notebook</a>'\n",
              "            + ' to learn more about interactive tables.';\n",
              "          element.innerHTML = '';\n",
              "          dataTable['output_type'] = 'display_data';\n",
              "          await google.colab.output.renderOutput(dataTable, element);\n",
              "          const docLink = document.createElement('div');\n",
              "          docLink.innerHTML = docLinkHtml;\n",
              "          element.appendChild(docLink);\n",
              "        }\n",
              "      </script>\n",
              "    </div>\n",
              "  </div>\n",
              "  "
            ]
          },
          "metadata": {},
          "execution_count": 16
        }
      ]
    },
    {
      "cell_type": "markdown",
      "source": [
        "**DATA VISUALIZATION**"
      ],
      "metadata": {
        "id": "EUmKgfK2zt2C"
      }
    },
    {
      "cell_type": "code",
      "source": [
        "import numpy as np\n",
        "import matplotlib.pyplot as plt \n",
        "from matplotlib import transforms\n",
        "import matplotlib\n",
        "\n",
        "\n",
        "import pandas as pd\n",
        "import pandas.api.types as pdtypes # for (sorted) categories.\n",
        "\n",
        "import seaborn as sns\n",
        "#from matplotlib.ticker import FixedLocator, FixedFormatter\n",
        "\n",
        "from plotnine import ggplot, geom_point, aes, stat_smooth, facet_wrap\n",
        "from plotnine import *\n",
        "from plotnine import ggplot, geom_point, aes, stat_smooth, facet_wrap, geom_line\n",
        "from plotnine import ggplot  # https://plotnine.readthedocs.io/en/stable/\n",
        "import pandas as pd\n",
        "import plotnine\n",
        "\n",
        "%matplotlib inline\n",
        "from  mizani import formatters # for better axis labelling\n",
        "from matplotlib.ticker import FixedLocator, FixedFormatter\n",
        "from matplotlib.patches import Rectangle\n"
      ],
      "metadata": {
        "id": "yxQ8e5eYzsja"
      },
      "execution_count": null,
      "outputs": []
    },
    {
      "cell_type": "code",
      "source": [
        "\n"
      ],
      "metadata": {
        "colab": {
          "base_uri": "https://localhost:8080/",
          "height": 206
        },
        "id": "aAFEtjb5N84K",
        "outputId": "7e92ba01-917e-4d2b-bb4f-e6f6003d2530"
      },
      "execution_count": 17,
      "outputs": [
        {
          "output_type": "execute_result",
          "data": {
            "text/plain": [
              "     when  vals\n",
              "0  before     7\n",
              "1  before     9\n",
              "2   after     6\n",
              "3   after    11\n",
              "4   other     5"
            ],
            "text/html": [
              "\n",
              "  <div id=\"df-74a6b4dd-d17e-476d-8bda-5c54b57ed308\">\n",
              "    <div class=\"colab-df-container\">\n",
              "      <div>\n",
              "<style scoped>\n",
              "    .dataframe tbody tr th:only-of-type {\n",
              "        vertical-align: middle;\n",
              "    }\n",
              "\n",
              "    .dataframe tbody tr th {\n",
              "        vertical-align: top;\n",
              "    }\n",
              "\n",
              "    .dataframe thead th {\n",
              "        text-align: right;\n",
              "    }\n",
              "</style>\n",
              "<table border=\"1\" class=\"dataframe\">\n",
              "  <thead>\n",
              "    <tr style=\"text-align: right;\">\n",
              "      <th></th>\n",
              "      <th>when</th>\n",
              "      <th>vals</th>\n",
              "    </tr>\n",
              "  </thead>\n",
              "  <tbody>\n",
              "    <tr>\n",
              "      <th>0</th>\n",
              "      <td>before</td>\n",
              "      <td>7</td>\n",
              "    </tr>\n",
              "    <tr>\n",
              "      <th>1</th>\n",
              "      <td>before</td>\n",
              "      <td>9</td>\n",
              "    </tr>\n",
              "    <tr>\n",
              "      <th>2</th>\n",
              "      <td>after</td>\n",
              "      <td>6</td>\n",
              "    </tr>\n",
              "    <tr>\n",
              "      <th>3</th>\n",
              "      <td>after</td>\n",
              "      <td>11</td>\n",
              "    </tr>\n",
              "    <tr>\n",
              "      <th>4</th>\n",
              "      <td>other</td>\n",
              "      <td>5</td>\n",
              "    </tr>\n",
              "  </tbody>\n",
              "</table>\n",
              "</div>\n",
              "      <button class=\"colab-df-convert\" onclick=\"convertToInteractive('df-74a6b4dd-d17e-476d-8bda-5c54b57ed308')\"\n",
              "              title=\"Convert this dataframe to an interactive table.\"\n",
              "              style=\"display:none;\">\n",
              "        \n",
              "  <svg xmlns=\"http://www.w3.org/2000/svg\" height=\"24px\"viewBox=\"0 0 24 24\"\n",
              "       width=\"24px\">\n",
              "    <path d=\"M0 0h24v24H0V0z\" fill=\"none\"/>\n",
              "    <path d=\"M18.56 5.44l.94 2.06.94-2.06 2.06-.94-2.06-.94-.94-2.06-.94 2.06-2.06.94zm-11 1L8.5 8.5l.94-2.06 2.06-.94-2.06-.94L8.5 2.5l-.94 2.06-2.06.94zm10 10l.94 2.06.94-2.06 2.06-.94-2.06-.94-.94-2.06-.94 2.06-2.06.94z\"/><path d=\"M17.41 7.96l-1.37-1.37c-.4-.4-.92-.59-1.43-.59-.52 0-1.04.2-1.43.59L10.3 9.45l-7.72 7.72c-.78.78-.78 2.05 0 2.83L4 21.41c.39.39.9.59 1.41.59.51 0 1.02-.2 1.41-.59l7.78-7.78 2.81-2.81c.8-.78.8-2.07 0-2.86zM5.41 20L4 18.59l7.72-7.72 1.47 1.35L5.41 20z\"/>\n",
              "  </svg>\n",
              "      </button>\n",
              "      \n",
              "  <style>\n",
              "    .colab-df-container {\n",
              "      display:flex;\n",
              "      flex-wrap:wrap;\n",
              "      gap: 12px;\n",
              "    }\n",
              "\n",
              "    .colab-df-convert {\n",
              "      background-color: #E8F0FE;\n",
              "      border: none;\n",
              "      border-radius: 50%;\n",
              "      cursor: pointer;\n",
              "      display: none;\n",
              "      fill: #1967D2;\n",
              "      height: 32px;\n",
              "      padding: 0 0 0 0;\n",
              "      width: 32px;\n",
              "    }\n",
              "\n",
              "    .colab-df-convert:hover {\n",
              "      background-color: #E2EBFA;\n",
              "      box-shadow: 0px 1px 2px rgba(60, 64, 67, 0.3), 0px 1px 3px 1px rgba(60, 64, 67, 0.15);\n",
              "      fill: #174EA6;\n",
              "    }\n",
              "\n",
              "    [theme=dark] .colab-df-convert {\n",
              "      background-color: #3B4455;\n",
              "      fill: #D2E3FC;\n",
              "    }\n",
              "\n",
              "    [theme=dark] .colab-df-convert:hover {\n",
              "      background-color: #434B5C;\n",
              "      box-shadow: 0px 1px 3px 1px rgba(0, 0, 0, 0.15);\n",
              "      filter: drop-shadow(0px 1px 2px rgba(0, 0, 0, 0.3));\n",
              "      fill: #FFFFFF;\n",
              "    }\n",
              "  </style>\n",
              "\n",
              "      <script>\n",
              "        const buttonEl =\n",
              "          document.querySelector('#df-74a6b4dd-d17e-476d-8bda-5c54b57ed308 button.colab-df-convert');\n",
              "        buttonEl.style.display =\n",
              "          google.colab.kernel.accessAllowed ? 'block' : 'none';\n",
              "\n",
              "        async function convertToInteractive(key) {\n",
              "          const element = document.querySelector('#df-74a6b4dd-d17e-476d-8bda-5c54b57ed308');\n",
              "          const dataTable =\n",
              "            await google.colab.kernel.invokeFunction('convertToInteractive',\n",
              "                                                     [key], {});\n",
              "          if (!dataTable) return;\n",
              "\n",
              "          const docLinkHtml = 'Like what you see? Visit the ' +\n",
              "            '<a target=\"_blank\" href=https://colab.research.google.com/notebooks/data_table.ipynb>data table notebook</a>'\n",
              "            + ' to learn more about interactive tables.';\n",
              "          element.innerHTML = '';\n",
              "          dataTable['output_type'] = 'display_data';\n",
              "          await google.colab.output.renderOutput(dataTable, element);\n",
              "          const docLink = document.createElement('div');\n",
              "          docLink.innerHTML = docLinkHtml;\n",
              "          element.appendChild(docLink);\n",
              "        }\n",
              "      </script>\n",
              "    </div>\n",
              "  </div>\n",
              "  "
            ]
          },
          "metadata": {},
          "execution_count": 17
        }
      ]
    },
    {
      "cell_type": "code",
      "source": [
        "# configure plot font family to Arial\n",
        "plt.rcParams['font.family'] = 'Arial'\n",
        "# configure mathtext bold and italic font family to Arial\n",
        "matplotlib.rcParams['mathtext.fontset'] = 'custom'\n",
        "matplotlib.rcParams['mathtext.bf'] = 'Arial:bold'\n",
        "matplotlib.rcParams['mathtext.it'] = 'Arial:italic'"
      ],
      "metadata": {
        "id": "KZBsFaaYA61b"
      },
      "execution_count": 127,
      "outputs": []
    },
    {
      "cell_type": "code",
      "source": [
        "def SWD_theme ():\n",
        "\n",
        "   \n",
        "    font = \"Arial\"\n",
        "    t=theme_minimal(base_size = 10, base_family = font ) \n",
        "\n",
        "    t2 = theme(\n",
        "      panel_grid_major = element_blank(),\n",
        "      panel_grid_minor = element_blank(),\n",
        "\n",
        "      axis_line = element_line(size = .1, color = GRAY9),\n",
        "      axis_text = element_text(color = GRAY3, size = 12),\n",
        "\n",
        "      #axis.ticks.x = element_line(size = 0.5, color = GRAY9),\n",
        "      #axis.ticks.y = element_line(size = 0.5, color = GRAY9),\n",
        "        \n",
        "      axis_title = element_text(color = GRAY3),\n",
        "\n",
        "      #axis_title_y = element_text(hjust = 1, margin = margin(0, 6, 0, 15, \"pt\")),\n",
        "      #axis_title_x = element_text(hjust = 0, margin = margin(6, 0, 15, 0, \"pt\")),\n",
        "      #plot_subtitle = element_text(color = GRAY4, size= 8),\n",
        "\n",
        "      plot_title = element_text(color = GRAY4, size= 12 ),\n",
        "        \n",
        "      # I don't think this line is implemented in plotnine\n",
        "      #plot_title_position = \"plot\", # This aligns the plot title to the very left edge\n",
        "        \n",
        "      #plot_caption = element_text(hjust = 0, color = GRAY6),\n",
        "      #plot_caption_position = \"plot\",\n",
        "\n",
        "      #plot_margin = margin(.5,.5,.5,.5,\"cm\"),\n",
        "      #plot_margin = (0.4 ),  \n",
        "        \n",
        "      strip_text = element_text(color = GRAY7)) \n",
        "    \n",
        "    return t+ t2"
      ],
      "metadata": {
        "id": "xl_UYjXtBM7P"
      },
      "execution_count": 23,
      "outputs": []
    },
    {
      "cell_type": "code",
      "source": [
        "# empathy87 on github\n",
        "\n",
        "def rainbow_text(x, y, text, colors, spacing=20, ax=None, **kw):\n",
        "    colors = list(reversed(colors))\n",
        "    t = ax.transData\n",
        "    canvas = ax.figure.canvas\n",
        "\n",
        "    for i, line in enumerate(reversed(text.split('\\n'))):\n",
        "        strings = line.split('||')\n",
        "        for s, c in zip(strings, colors[i]):\n",
        "            text = ax.text(x, y, s, color=c, transform=t, **kw)\n",
        "            text.draw(canvas.get_renderer())\n",
        "            ex = text.get_window_extent()\n",
        "            t = transforms.offset_copy(text._transform, x=ex.width, \n",
        "                                       units='dots')\n",
        "\n",
        "        t = transforms.offset_copy(ax.transData, x=0, y=(i + 1) * spacing, \n",
        "                                   units='dots')\n",
        "        "
      ],
      "metadata": {
        "id": "L1bzjdSSIyX4"
      },
      "execution_count": 124,
      "outputs": []
    },
    {
      "cell_type": "code",
      "source": [
        "t = theme(         \n",
        "   \n",
        "          # Overrides\n",
        "          axis_title_y = element_text(angle = 90, va = 'bottom', ha = 'left', size = 15, color = GRAY3, y = 0.52),\n",
        "          panel_grid_major_y=element_blank()\n",
        "   \n",
        ")\n",
        "\n",
        "lsize = 0.65\n",
        "shift = -0.07\n",
        "shift_point = 0.06\n",
        "\n",
        "# For shifting the violin plot\n",
        "def alt_sign(x):\n",
        "    \"Alternate +1/-1 if x is even/odd\"\n",
        "    #return (-1) ** x \n",
        "    return \n",
        "\n",
        "m1 = aes(x=stage('scenario', after_scale='x+shift*x'))                 # shift outward\n",
        "m2 = aes(x=stage('scenario', after_scale='x+shift_point*x'))           # shift outward\n",
        "m3 = aes( stage('scenario', after_scale='x+shift_point*x' ),y='vals' ) # shift outward\n",
        "\n",
        "fig = \\\n",
        "(ggplot(df, aes('scenario', 'value'))\n",
        " + geom_violin(m1, alpha=0.04, color=GRAY8, fill=BLUE3, style=\"left\", size=lsize) \n",
        " + geom_boxplot( width=0.1, alpha=0.09, color=GRAY8,  outlier_size=0  )\n",
        " + geom_point(m2, alpha=0.01)\n",
        "  + geom_point ( aes(y='vals' ),data=df_sum , size=13, alpha=0.3)\n",
        "#  + geom_point ( m3,  data=df_sum , size=13, alpha=0.3)\n",
        "  + geom_text( data=df_sum, mapping=aes(label = ( 'vals') ,y  = 'vals' )  ,\n",
        "            #position = position_stack(vjust = .5),\n",
        "            #format_string=\"CI:{}\",  \n",
        "            color = GRAY1, size = 14  , alpha=0.5, nudge_x=0.25)  \n",
        "  + SWD_theme() + t\n",
        "  + labs(y = \"Expected Responses\"  , x = \"\")\n",
        "  \n",
        ").draw(show=False, return_ggplot=False) \n",
        "\n",
        "# Having got the plot make some other annotations.\n",
        "ax1 = fig.axes[0]\n",
        "\n",
        "# Rectangle for forecast\n",
        "#ax1.add_patch(Rectangle((2015, 5), 10, -20, facecolor=GRAY7))\n",
        "\n",
        "ax0 = fig.add_axes( (0,0,1,1))\n",
        "ax0.axis('Off') # don't draw anything.\n",
        "\n",
        "ax1.add_patch(Rectangle( (-1, 0  ),  2.5, 20, facecolor=GRAY9,alpha=0.05)  )\n",
        "#ax1.add_patch(Rectangle( (1.5, 0 ),  2, 20, facecolor=ORANGE3,alpha=0.05) )\n",
        "ax1.add_patch(Rectangle( (3.5,0 ),  1, 20, facecolor=GRAY9,alpha=0.05) )\n",
        "\n",
        "# Columns Annotations\n",
        "\n",
        "#annotation_text = \"2 employees quit in May. We nearly kept up with incoming calls \\n\" \n",
        "#ax1.annotate(annotation_text,xy=(1,5),xytext=(1,10),color=BLUE2,fontsize=12)\n",
        "\n",
        "label_y = 13\n",
        "\n",
        "#$\\\\mathit{OK}$\n",
        "rainbow_text(0.5, label_y,\n",
        "             'Ignore Unknowns\\n'\n",
        "             'Use the response\\n'\n",
        "             'rate learnt after a\\n'\n",
        "             'previous campaign',\n",
        "             [[BLUE1], [GRAY3], [GRAY3], [GRAY3] ],\n",
        "             spacing=35,\n",
        "             ax=ax1,\n",
        "             fontsize=10)\n",
        "\n",
        "rainbow_text(1.7, label_y,\n",
        "             'Add Known Unkowns\\n'\n",
        "             'Account for sampling error - roll of the dice in \\n'\n",
        "             'in a) Current and b) Previous Campaigns \\n'\n",
        "             '',\n",
        "             [[BLUE1], [GRAY3], [GRAY3], [GRAY3] ],\n",
        "             spacing=35,\n",
        "             ax=ax1,\n",
        "             fontsize=10)\n",
        "\n",
        "rainbow_text(3.5, label_y,\n",
        "             '?? Unknown Unknowns ??\\n'\n",
        "             'Account for customer\\n'\n",
        "             'shift between  \\n'\n",
        "             'propensities. Add 10%',\n",
        "             [[BLUE1], [GRAY3], [GRAY3], [GRAY3] ],\n",
        "             spacing=35,\n",
        "             ax=ax1,\n",
        "             fontsize=10)\n",
        "\n",
        "\n",
        "fig.dpi = 200\n",
        "width_in = 10\n",
        "fig.set_size_inches(width_in , width_in / 1.63) \n"
      ],
      "metadata": {
        "colab": {
          "base_uri": "https://localhost:8080/",
          "height": 1000
        },
        "id": "gJD4zBYPMLSc",
        "outputId": "626271f1-faa6-4df6-fb62-f05f7c7b5580"
      },
      "execution_count": 282,
      "outputs": [
        {
          "output_type": "display_data",
          "data": {
            "text/plain": [
              "<Figure size 2000x1226.99 with 2 Axes>"
            ],
            "image/png": "[encoded data removed]"
          },
          "metadata": {
            "needs_background": "light"
          }
        }
      ]
    },
    {
      "cell_type": "code",
      "source": [],
      "metadata": {
        "id": "y-1nLaEFHMw_"
      },
      "execution_count": null,
      "outputs": []
    }
  ]
}